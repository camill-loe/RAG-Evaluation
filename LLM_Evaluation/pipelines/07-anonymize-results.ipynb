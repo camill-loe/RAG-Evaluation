{
 "cells": [
  {
   "cell_type": "markdown",
   "id": "8436a37c-d848-4a01-b3f5-91cb608b49d3",
   "metadata": {},
   "source": [
    "# Documentation\n",
    "This is a notebook that reads in parquets in a folder, anonymizes specific columns and writes the anonymized parquets back to the same folder."
   ]
  },
  {
   "cell_type": "code",
   "execution_count": null,
   "id": "7cd31501",
   "metadata": {},
   "outputs": [],
   "source": [
    "import pandas as pd\n",
    "import os\n",
    "from datetime import datetime\n",
    "import plotly.express as px\n",
    "import json\n",
    "import hashlib"
   ]
  },
  {
   "cell_type": "code",
   "execution_count": null,
   "id": "6e4e162a-334e-4e33-b2bd-503daff7b473",
   "metadata": {},
   "outputs": [],
   "source": [
    "def anonymize_column(column):\n",
    "    return column.apply(lambda x: hashlib.sha256(x.encode()).hexdigest())\n",
    "base_folder = \"/Volumes/uc-catalog-dev/advancedanalytics-productai-dev/transformed_dev/llm-evaluation/final_results_thesis/\"\n",
    "columns_to_anonymize = ['question', 'answer', 'productai_response', 'evaluation_reasoning']"
   ]
  },
  {
   "cell_type": "code",
   "execution_count": null,
   "id": "767802d7-caa4-4f6a-afaa-0b3e5c768fb9",
   "metadata": {},
   "outputs": [],
   "source": [
    "dfs = []\n",
    "file_names = []\n",
    "for file in os.listdir(base_folder):\n",
    "    if file.endswith(\".parquet\") and file.startswith(\"curated\"):\n",
    "        df = pd.read_parquet(os.path.join(base_folder, file))\n",
    "        for column in columns_to_anonymize:\n",
    "            df[column] = anonymize_column(df[column])\n",
    "        df.to_parquet(base_folder + \"complete_anonymized_results\" + file[15:])\n",
    "        display(df)"
   ]
  }
 ],
 "metadata": {
  "kernelspec": {
   "display_name": "Python 3 (ipykernel)",
   "language": "python",
   "name": "python3"
  },
  "language_info": {
   "codemirror_mode": {
    "name": "ipython",
    "version": 3
   },
   "file_extension": ".py",
   "mimetype": "text/x-python",
   "name": "python",
   "nbconvert_exporter": "python",
   "pygments_lexer": "ipython3",
   "version": "3.11.9"
  }
 },
 "nbformat": 4,
 "nbformat_minor": 5
}
