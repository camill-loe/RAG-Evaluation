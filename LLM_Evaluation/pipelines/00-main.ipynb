{
 "cells": [
  {
   "cell_type": "code",
   "execution_count": null,
   "id": "952e690e",
   "metadata": {},
   "outputs": [],
   "source": [
    "# document paths\n",
    "document_paths = [\"/Volumes/uc-catalog-dev/advancedanalytics-productai-dev/transformed_dev/filters/katharina_keese/pdf/2024-07-17_validations_poc/ex_and_val_guides/gpt-vision-pipe/document-twins/2024-08-14/Polyethersulfone-Ultrafilter-Extractables-Guide-en-B-2682084-Sartorius.json\"]\n",
    "# Generate QA pairs for each document by running the external script\n",
    "%run /Workspace/Users/adm.t1.cloebbecke@sartorius.com/LLM_evaluation/pipelines/01-generate_qa_pairs.ipynb {document_paths}"
   ]
  }
 ],
 "metadata": {
  "kernelspec": {
   "display_name": "Python 3 (ipykernel)",
   "language": "python",
   "name": "python3"
  },
  "language_info": {
   "codemirror_mode": {
    "name": "ipython",
    "version": 3
   },
   "file_extension": ".py",
   "mimetype": "text/x-python",
   "name": "python",
   "nbconvert_exporter": "python",
   "pygments_lexer": "ipython3",
   "version": "3.11.9"
  }
 },
 "nbformat": 4,
 "nbformat_minor": 5
}
