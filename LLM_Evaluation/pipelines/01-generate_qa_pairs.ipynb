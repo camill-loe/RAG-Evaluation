{
 "cells": [
  {
   "cell_type": "markdown",
   "id": "f05f163e-a68b-41ce-a63e-b96abcee614e",
   "metadata": {},
   "source": [
    "### Documentation 17.09.2024\n",
    "This script takes a list of documents and generats Question-Answer pairs for each document. It does this in a few steps for each document:\n",
    "1. Chunk Document into chapters\n",
    "2. Generate two Question-Answer pairs for each chapter\n",
    "\n",
    "For testing purposes I currently take only a few documents, which you can change in cell 5."
   ]
  },
  {
   "cell_type": "code",
   "execution_count": null,
   "id": "95b1ad16-252b-4e3b-894e-55d592d77e4a",
   "metadata": {},
   "outputs": [],
   "source": [
    "from objects.qa_pair_generator import QAPairGenerator\n",
    "import pandas as pd\n",
    "from datetime import datetime\n",
    "import os\n",
    "from tqdm import tqdm"
   ]
  },
  {
   "cell_type": "markdown",
   "id": "9585dcaf-8863-4497-af6e-5bc75a9706c0",
   "metadata": {},
   "source": [
    "### Paths to Documents"
   ]
  },
  {
   "cell_type": "code",
   "execution_count": null,
   "id": "55bc8f2d-8b73-4bf3-aa32-f095a210c158",
   "metadata": {},
   "outputs": [],
   "source": [
    "# This will be moved to 00-main later on\n",
    "\n",
    "# Folder that contains all documents\n",
    "folder_path = \"/Volumes/uc-catalog-dev/advancedanalytics-productai-dev/transformed_dev/filters/katharina_keese/pdf/2024-07-17_validations_poc/ex_and_val_guides/gpt-vision-pipe/document-twins/2024-08-14\"\n",
    "\n",
    "# Get all .md files from the folder\n",
    "document_paths = [os.path.join(folder_path, f) for f in os.listdir(folder_path) if f.endswith('.md')]\n",
    "\n",
    "# Create folder that will contain all results for the evaluation session\n",
    "save_folder = \"/Volumes/uc-catalog-dev/advancedanalytics-productai-dev/transformed_dev/llm-evaluation/\" + datetime.now().strftime(\"%Y-%m-%d\") + \"/\"\n",
    "os.makedirs(os.path.join(save_folder, timestamp), exist_ok=True)"
   ]
  },
  {
   "cell_type": "markdown",
   "id": "acf6fa55-0ecb-4184-8594-2368d62f5ac7",
   "metadata": {},
   "source": [
    "### Generate QA Pairs"
   ]
  },
  {
   "cell_type": "code",
   "execution_count": null,
   "id": "0268b21b-61cd-49b9-9dd0-6898e9915fd8",
   "metadata": {},
   "outputs": [],
   "source": [
    "model_name = \"evaluation_gpt4o\" # the model used for QA-pair generation\n",
    "timestamp = datetime.now().strftime(\"%Y%m%d%H%M%S\")\n",
    "combined_df = []\n",
    "\n",
    "for path in tqdm(document_paths):\n",
    "    generator = QAPairGenerator(path, model_name, dbutils.secrets.get(scope='keyvault-link', key='azure-openai-api-key'))\n",
    "    qa_pairs = generator.generate_qa_pairs(2)\n",
    "    df = pd.DataFrame(qa_pairs)\n",
    "    df.to_parquet(os.path.join(save_folder, timestamp, f\"question_answer_pairs_{os.path.basename(path).replace('.md', '')}.parquet\"), index=False)\n",
    "    combined_df.append(df)\n",
    "\n",
    "# Saving\n",
    "combined_df = pd.concat(combined_df)\n",
    "combined_df.to_parquet(f\"{save_folder}question_answer_pairs_{timestamp}.parquet\", index=False)\n",
    "display(combined_df)"
   ]
  },
  {
   "cell_type": "markdown",
   "id": "862fe0f0-50fe-47f6-bd36-e2c8376fafea",
   "metadata": {},
   "source": [
    "#### If the code above fails, you can run the code below to keep the progress and start from where you left off\n",
    "#### Make sure to change the variable timestamp to the name of the folder where the progress is saved"
   ]
  },
  {
   "cell_type": "code",
   "execution_count": null,
   "id": "89027080-e82c-4565-8a23-35f0f2866cd3",
   "metadata": {},
   "outputs": [],
   "source": [
    "# timestamp = \"20240928203654\""
   ]
  },
  {
   "cell_type": "code",
   "execution_count": null,
   "id": "64b75646-7813-49b7-8fca-da4181b059ac",
   "metadata": {},
   "outputs": [],
   "source": [
    "'''\n",
    "combined_df = []\n",
    "\n",
    "# Read in all previously saved dataframes\n",
    "saved_files = [os.path.join(save_folder, timestamp, f) for f in os.listdir(os.path.join(save_folder, timestamp)) if f.endswith('.parquet')]\n",
    "for file in saved_files:\n",
    "    df = pd.read_parquet(file)\n",
    "    combined_df.append(df)\n",
    "    \n",
    "# Get the list of already processed documents\n",
    "processed_docs = [os.path.basename(f).replace('question_answer_pairs_', '').replace('.parquet', '') for f in saved_files]\n",
    "\n",
    "# Filter out the already processed documents\n",
    "remaining_paths = [path for path in document_paths if os.path.basename(path).replace('.md', '') not in processed_docs]\n",
    "print(len(remaining_paths))\n",
    "\n",
    "for path in tqdm(remaining_paths):\n",
    "    generator = QAPairGenerator(path, model_name, dbutils.secrets.get(scope='keyvault-link', key='azure-openai-api-key'))\n",
    "    qa_pairs = generator.generate_qa_pairs(2)\n",
    "    df = pd.DataFrame(qa_pairs)\n",
    "    df.to_parquet(os.path.join(save_folder, timestamp, f\"question_answer_pairs_{os.path.basename(path).replace('.md', '')}.parquet\"), index=False)\n",
    "    combined_df.append(df)\n",
    "combined_df = pd.concat(combined_df)\n",
    "combined_df.to_parquet(f\"{save_folder}question_answer_pairs_{timestamp}.parquet\", index=False)\n",
    "combined_df\n",
    "'''"
   ]
  }
 ],
 "metadata": {
  "kernelspec": {
   "display_name": "Python 3 (ipykernel)",
   "language": "python",
   "name": "python3"
  },
  "language_info": {
   "codemirror_mode": {
    "name": "ipython",
    "version": 3
   },
   "file_extension": ".py",
   "mimetype": "text/x-python",
   "name": "python",
   "nbconvert_exporter": "python",
   "pygments_lexer": "ipython3",
   "version": "3.11.9"
  }
 },
 "nbformat": 4,
 "nbformat_minor": 5
}
